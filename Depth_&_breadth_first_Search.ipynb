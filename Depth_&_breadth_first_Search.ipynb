{
  "nbformat": 4,
  "nbformat_minor": 0,
  "metadata": {
    "colab": {
      "provenance": [],
      "authorship_tag": "ABX9TyMh0mf2Hc8qQ2/AQAh0hkIT",
      "include_colab_link": true
    },
    "kernelspec": {
      "name": "python3",
      "display_name": "Python 3"
    },
    "language_info": {
      "name": "python"
    }
  },
  "cells": [
    {
      "cell_type": "markdown",
      "metadata": {
        "id": "view-in-github",
        "colab_type": "text"
      },
      "source": [
        "<a href=\"https://colab.research.google.com/github/ahmedattari/Ai-Searching-Algorithms/blob/main/Depth_%26_breadth_first_Search.ipynb\" target=\"_parent\"><img src=\"https://colab.research.google.com/assets/colab-badge.svg\" alt=\"Open In Colab\"/></a>"
      ]
    },
    {
      "cell_type": "markdown",
      "source": [
        "Ahmed Raza Attari\n",
        "\n",
        "F2021376017\n",
        "\n",
        "BSAI"
      ],
      "metadata": {
        "id": "NNl71-3kvOLF"
      }
    },
    {
      "cell_type": "markdown",
      "source": [
        "**Task 1:** Implement Depth First Search Algorithm in Python, as per the following steps:\n",
        "1.\tRepresent the following graph as dictionary. \n",
        "\n",
        "\n",
        "\n",
        "\n",
        "\n",
        "\n",
        "\n",
        "\n",
        "\n",
        "\n",
        "\n",
        "\n",
        "![image.png](data:image/png;base64,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)"
      ],
      "metadata": {
        "id": "02NiiqL_f_x3"
      }
    },
    {
      "cell_type": "code",
      "source": [
        "graph = {'A': ['B', 'C'],\n",
        "         'B': ['A', 'D', 'E'],\n",
        "         'C': ['A', 'F', 'G'], \n",
        "         'D': ['B'], \n",
        "         'E': ['B'], \n",
        "         'F': ['C'], \n",
        "         'G': ['C']}\n",
        "         \n",
        "child1 = graph['A']\n",
        "print(child1)\n",
        "\n"
      ],
      "metadata": {
        "colab": {
          "base_uri": "https://localhost:8080/"
        },
        "id": "TnGiMKHRdBTF",
        "outputId": "779a4a6b-b2bc-49c9-a65a-3692a27dfed1"
      },
      "execution_count": null,
      "outputs": [
        {
          "output_type": "stream",
          "name": "stdout",
          "text": [
            "['B', 'C']\n"
          ]
        }
      ]
    },
    {
      "cell_type": "markdown",
      "source": [
        "2.\tMake an empty list for a stack."
      ],
      "metadata": {
        "id": "WljL8_IyhGxi"
      }
    },
    {
      "cell_type": "code",
      "source": [
        "stack = []"
      ],
      "metadata": {
        "id": "YfJS61VBg_G0"
      },
      "execution_count": null,
      "outputs": []
    },
    {
      "cell_type": "markdown",
      "source": [
        "3.\tMake a set for controlling the visited nodes."
      ],
      "metadata": {
        "id": "3aydl8SJhYYl"
      }
    },
    {
      "cell_type": "code",
      "source": [
        "visited = set()"
      ],
      "metadata": {
        "id": "5sgi87T5hZ2u"
      },
      "execution_count": null,
      "outputs": []
    },
    {
      "cell_type": "markdown",
      "source": [
        "4.\tSet a starting node."
      ],
      "metadata": {
        "id": "VP42zap0hlDG"
      }
    },
    {
      "cell_type": "code",
      "source": [
        "start = 'A'"
      ],
      "metadata": {
        "id": "uekCqkrGhl3m"
      },
      "execution_count": null,
      "outputs": []
    },
    {
      "cell_type": "markdown",
      "source": [
        "5.\tSet an ending node (goal)."
      ],
      "metadata": {
        "id": "4DCD1WHKh0MO"
      }
    },
    {
      "cell_type": "code",
      "source": [
        "goal = 'G'"
      ],
      "metadata": {
        "id": "gqNATywIh2Ix"
      },
      "execution_count": null,
      "outputs": []
    },
    {
      "cell_type": "markdown",
      "source": [
        "6.\tAppend the starting node into the stack list."
      ],
      "metadata": {
        "id": "alZ18tZEh7bB"
      }
    },
    {
      "cell_type": "code",
      "source": [
        "stack.append(start)"
      ],
      "metadata": {
        "id": "mC_vw7Y1h8e_"
      },
      "execution_count": null,
      "outputs": []
    },
    {
      "cell_type": "markdown",
      "source": [
        "7.\tIteratively perform following until the stack list gets empty:\n",
        "\n",
        "a.\tPop from the stack list and consider it as current node, add that current node as visited. \n",
        "\n",
        "b. Check if the current node you are on is the goal state or not. If it is the goal state, then halt otherwise\n",
        "\n",
        "c.\tGet the children of current node.\n",
        "\n",
        "d.\tFor all those children which are NOT IN visited\n",
        "\n",
        "    i.\tAppend them to stack list\n"
      ],
      "metadata": {
        "id": "cjtmH2DGiHQY"
      }
    },
    {
      "cell_type": "code",
      "source": [
        "while len(stack)!=0:\n",
        "    currentNode = stack.pop()\n",
        "    \n",
        "    print(currentNode)\n",
        "    if currentNode == goal:\n",
        "      print(\"Your Goal Found!!!\")\n",
        "      break\n",
        "\n",
        "    visited.add(currentNode)\n",
        "    child = graph[currentNode]\n",
        "    for c in child:\n",
        "      if c not in visited:\n",
        "        stack.append(c)\n"
      ],
      "metadata": {
        "colab": {
          "base_uri": "https://localhost:8080/"
        },
        "id": "JTm5bXZ0iIlQ",
        "outputId": "455622e2-78b9-409a-cb0a-c86638733b8e"
      },
      "execution_count": null,
      "outputs": [
        {
          "output_type": "stream",
          "name": "stdout",
          "text": [
            "A\n",
            "C\n",
            "G\n",
            "Your Goal Found!!!\n"
          ]
        }
      ]
    },
    {
      "cell_type": "markdown",
      "source": [
        "**Task 2:** Modify the implemented Depth First Search Algorithm and convert it to Breadth First Search in Python."
      ],
      "metadata": {
        "id": "SeTeKmXpurRZ"
      }
    },
    {
      "cell_type": "code",
      "source": [
        "graph2 = {'A': ['B', 'C'],\n",
        "         'B': ['A', 'D', 'E'],  \n",
        "         'C': ['A', 'F', 'G'], \n",
        "         'D': ['B'], \n",
        "         'E': ['B'], \n",
        "         'F': ['C'], \n",
        "         'G': ['C']}\n",
        "\n",
        "queue = []\n",
        "visited = set()\n",
        "start = 'A'\n",
        "goal = 'G'\n",
        "queue.append(start)\n",
        "\n",
        "while len(queue)!=0:\n",
        "    currentNode = queue.pop(0)\n",
        "  \n",
        "    print(currentNode)\n",
        "    if currentNode == goal:\n",
        "      print(\"Your Goal Found!!!\")\n",
        "      break\n",
        "    visited.add(currentNode)\n",
        "    child = graph2[currentNode]\n",
        "    for c in child:\n",
        "      if c not in visited:\n",
        "        queue.append(c)\n"
      ],
      "metadata": {
        "colab": {
          "base_uri": "https://localhost:8080/"
        },
        "id": "GIEMIIMOpevw",
        "outputId": "387dba5a-9b91-4884-f243-1e84fc89831a"
      },
      "execution_count": null,
      "outputs": [
        {
          "output_type": "stream",
          "name": "stdout",
          "text": [
            "A\n",
            "B\n",
            "C\n",
            "D\n",
            "E\n",
            "F\n",
            "G\n",
            "Your Goal Found!!!\n"
          ]
        }
      ]
    }
  ]
}