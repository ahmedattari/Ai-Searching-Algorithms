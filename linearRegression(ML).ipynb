{
  "nbformat": 4,
  "nbformat_minor": 0,
  "metadata": {
    "colab": {
      "provenance": [],
      "authorship_tag": "ABX9TyMWVX0jl4VRkskL6PkrxNGz",
      "include_colab_link": true
    },
    "kernelspec": {
      "name": "python3",
      "display_name": "Python 3"
    },
    "language_info": {
      "name": "python"
    }
  },
  "cells": [
    {
      "cell_type": "markdown",
      "metadata": {
        "id": "view-in-github",
        "colab_type": "text"
      },
      "source": [
        "<a href=\"https://colab.research.google.com/github/ahmedattari/Ai-Searching-Algorithms/blob/main/linearRegression(ML).ipynb\" target=\"_parent\"><img src=\"https://colab.research.google.com/assets/colab-badge.svg\" alt=\"Open In Colab\"/></a>"
      ]
    },
    {
      "cell_type": "code",
      "execution_count": null,
      "metadata": {
        "id": "R5ZyEBuhV1uP"
      },
      "outputs": [],
      "source": [
        "import pandas as pd\n",
        "import matplotlib.pyplot as plt"
      ]
    },
    {
      "cell_type": "code",
      "source": [
        "file = pd.read_csv('LR.csv',header = None)\n",
        "print(file)"
      ],
      "metadata": {
        "id": "9gFm3ylMWL-I",
        "colab": {
          "base_uri": "https://localhost:8080/"
        },
        "outputId": "e858c404-6091-4527-cb38-5b3a80533401"
      },
      "execution_count": null,
      "outputs": [
        {
          "output_type": "stream",
          "name": "stdout",
          "text": [
            "            0          1\n",
            "0   32.502345  31.707006\n",
            "1   53.426804  68.777596\n",
            "2   61.530358  62.562382\n",
            "3   47.475640  71.546632\n",
            "4   59.813208  87.230925\n",
            "..        ...        ...\n",
            "95  50.030174  81.536991\n",
            "96  49.239765  72.111832\n",
            "97  50.039576  85.232007\n",
            "98  48.149859  66.224958\n",
            "99  25.128485  53.454394\n",
            "\n",
            "[100 rows x 2 columns]\n"
          ]
        }
      ]
    },
    {
      "cell_type": "code",
      "source": [
        "x = file[0]\n",
        "y = file[1]\n",
        "mean = []\n",
        "alpha = 0.0001\n",
        "epoch = 100\n",
        "b0 = 0\n",
        "b1 = 0\n",
        "m = len(file)\n"
      ],
      "metadata": {
        "id": "zBTwsHjY0REO"
      },
      "execution_count": null,
      "outputs": []
    },
    {
      "cell_type": "code",
      "source": [
        "plt.scatter(x,y,c=\"red\")\n",
        "plt.xlabel('Mids Marks')  \n",
        "plt.ylabel('Final Marks') \n",
        "plt.title('Marks Ploting') \n",
        "plt.show()\n"
      ],
      "metadata": {
        "colab": {
          "base_uri": "https://localhost:8080/",
          "height": 295
        },
        "id": "P4WvtqKa11fu",
        "outputId": "735ad9d5-e0e7-45b6-a6b4-ffe8e57121af"
      },
      "execution_count": null,
      "outputs": [
        {
          "output_type": "display_data",
          "data": {
            "text/plain": [
              "<Figure size 432x288 with 1 Axes>"
            ],
            "image/png": "[encoded data removed]"
          },
          "metadata": {
            "needs_background": "light"
          }
        }
      ]
    },
    {
      "cell_type": "code",
      "source": [
        "print(f\"b0= {b0}, b1 = {b1}\")\n",
        "for i in range(epoch):\n",
        "  yhat = b0 + b1*x\n",
        "  mse = (1/m) * (sum((y-yhat)**2))\n",
        "  print(f\"mse = {mse}\")\n",
        "  mean.append(mse)\n",
        "  db0 = (-2/m)* (sum(y-yhat))\n",
        "  db1 = (-2/m) * (sum(x*(y-yhat)))\n",
        "  b0 = b0 - (alpha*db0)\n",
        "  print(f\"b0 = {b0}\")\n",
        "  b1 = b1 - (alpha*db1)\n",
        "  print(f\"b1 = {b1}\")"
      ],
      "metadata": {
        "id": "ivj8Px0c2F5m",
        "colab": {
          "base_uri": "https://localhost:8080/"
        },
        "outputId": "31d506ff-a2a0-461d-8c1e-9f9191972c5f"
      },
      "execution_count": null,
      "outputs": [
        {
          "output_type": "stream",
          "name": "stdout",
          "text": [
            "b0= 0, b1 = 0\n",
            "mse = 5565.107834483212\n",
            "b0 = 0.014547010110737297\n",
            "b1 = 0.7370702973591055\n",
            "mse = 1484.5865574086483\n",
            "b0 = 0.021873962959596406\n",
            "b1 = 1.106795454351516\n",
            "mse = 457.8542575737667\n",
            "b0 = 0.02557922432129313\n",
            "b1 = 1.2922546649131117\n",
            "mse = 199.50998572553868\n",
            "b0 = 0.027467789559144345\n",
            "b1 = 1.385283255651245\n",
            "mse = 134.50591058200533\n",
            "b0 = 0.028445071981738953\n",
            "b1 = 1.4319472323843205\n",
            "mse = 118.14969342239944\n",
            "b0 = 0.02896524076647861\n",
            "b1 = 1.4553540088980408\n",
            "mse = 114.03414906038148\n",
            "b0 = 0.02925611412604669\n",
            "b1 = 1.4670946177201354\n",
            "mse = 112.99857731713657\n",
            "b0 = 0.02943196916380712\n",
            "b1 = 1.4729832982243762\n",
            "mse = 112.73798187568465\n",
            "b0 = 0.029550129024383063\n",
            "b1 = 1.4759365618962286\n",
            "mse = 112.672384359091\n",
            "b0 = 0.02963934787473238\n",
            "b1 = 1.4774173755483797\n",
            "mse = 112.65585181499745\n",
            "b0 = 0.029714049245227036\n",
            "b1 = 1.4781595857319891\n",
            "mse = 112.65166489759581\n",
            "b0 = 0.029781468199526512\n",
            "b1 = 1.4785313011122556\n",
            "mse = 112.65058436150107\n",
            "b0 = 0.029845233956332408\n",
            "b1 = 1.4787171706313593\n",
            "mse = 112.65028544701505\n",
            "b0 = 0.02990716698731023\n",
            "b1 = 1.4788098170256598\n",
            "mse = 112.6501832029397\n",
            "b0 = 0.029968180468920386\n",
            "b1 = 1.4788557012777626\n",
            "mse = 112.65013044507198\n",
            "b0 = 0.030028732464457787\n",
            "b1 = 1.4788781289278565\n",
            "mse = 112.65009013922884\n",
            "b0 = 0.030089052745485786\n",
            "b1 = 1.4788887903917065\n",
            "mse = 112.65005296694626\n",
            "b0 = 0.03014925656894005\n",
            "b1 = 1.4788935497608395\n",
            "mse = 112.6500165835318\n",
            "b0 = 0.030209401749465795\n",
            "b1 = 1.4788953485533445\n",
            "mse = 112.64998039901866\n",
            "b0 = 0.0302695172877759\n",
            "b1 = 1.478895662279729\n",
            "mse = 112.64994426496072\n",
            "b0 = 0.03032961773107365\n",
            "b1 = 1.4788952310786534\n",
            "mse = 112.6499081440062\n",
            "b0 = 0.030389710376460637\n",
            "b1 = 1.4788944262150017\n",
            "mse = 112.64987202675673\n",
            "b0 = 0.030449798884276447\n",
            "b1 = 1.4788934339209232\n",
            "mse = 112.6498359108476\n",
            "b0 = 0.03050988509060516\n",
            "b1 = 1.4788923476133156\n",
            "mse = 112.6497997956837\n",
            "b0 = 0.03056996991645636\n",
            "b1 = 1.4788912141515247\n",
            "mse = 112.64976368111527\n",
            "b0 = 0.030630053823824274\n",
            "b1 = 1.4788900570409158\n",
            "mse = 112.64972756710463\n",
            "b0 = 0.03069013704445397\n",
            "b1 = 1.4788888880721398\n",
            "mse = 112.64969145364239\n",
            "b0 = 0.03075021969459404\n",
            "b1 = 1.478887713159568\n",
            "mse = 112.64965534072608\n",
            "b0 = 0.03081030183255826\n",
            "b1 = 1.4788865352699392\n",
            "mse = 112.64961922835514\n",
            "b0 = 0.030870383487599413\n",
            "b1 = 1.4788853558914152\n",
            "mse = 112.64958311652936\n",
            "b0 = 0.03093046467439286\n",
            "b1 = 1.4788841757704807\n",
            "mse = 112.6495470052488\n",
            "b0 = 0.03099054540030168\n",
            "b1 = 1.4788829952815838\n",
            "mse = 112.64951089451318\n",
            "b0 = 0.03105062566902102\n",
            "b1 = 1.4788818146125533\n",
            "mse = 112.64947478432278\n",
            "b0 = 0.031110705482406128\n",
            "b1 = 1.478880633857607\n",
            "mse = 112.64943867467748\n",
            "b0 = 0.031170784841389326\n",
            "b1 = 1.478879453064006\n",
            "mse = 112.64940256557728\n",
            "b0 = 0.03123086374643999\n",
            "b1 = 1.478878272255457\n",
            "mse = 112.64936645702221\n",
            "b0 = 0.031290942197795275\n",
            "b1 = 1.4788770914438518\n",
            "mse = 112.64933034901213\n",
            "b0 = 0.03135102019557584\n",
            "b1 = 1.4788759106351557\n",
            "mse = 112.64929424154704\n",
            "b0 = 0.03141109773984392\n",
            "b1 = 1.4788747298323603\n",
            "mse = 112.6492581346271\n",
            "b0 = 0.031471174830632435\n",
            "b1 = 1.4788735490369667\n",
            "mse = 112.64922202825227\n",
            "b0 = 0.03153125146795961\n",
            "b1 = 1.4788723682497276\n",
            "mse = 112.64918592242232\n",
            "b0 = 0.03159132765183629\n",
            "b1 = 1.4788711874710208\n",
            "mse = 112.64914981713756\n",
            "b0 = 0.03165140338226961\n",
            "b1 = 1.4788700067010354\n",
            "mse = 112.64911371239778\n",
            "b0 = 0.03171147865926488\n",
            "b1 = 1.4788688259398666\n",
            "mse = 112.64907760820296\n",
            "b0 = 0.031771553482826446\n",
            "b1 = 1.478867645187562\n",
            "mse = 112.64904150455321\n",
            "b0 = 0.0318316278529582\n",
            "b1 = 1.4788664644441452\n",
            "mse = 112.64900540144842\n",
            "b0 = 0.0318917017696638\n",
            "b1 = 1.4788652837096283\n",
            "mse = 112.64896929888869\n",
            "b0 = 0.03195177523294679\n",
            "b1 = 1.4788641029840173\n",
            "mse = 112.64893319687394\n",
            "b0 = 0.032011848242810656\n",
            "b1 = 1.478862922267315\n",
            "mse = 112.64889709540407\n",
            "b0 = 0.03207192079925884\n",
            "b1 = 1.4788617415595229\n",
            "mse = 112.64886099447922\n",
            "b0 = 0.03213199290229479\n",
            "b1 = 1.4788605608606418\n",
            "mse = 112.64882489409928\n",
            "b0 = 0.03219206455192193\n",
            "b1 = 1.478859380170672\n",
            "mse = 112.64878879426436\n",
            "b0 = 0.03225213574814368\n",
            "b1 = 1.4788581994896135\n",
            "mse = 112.64875269497426\n",
            "b0 = 0.032312206490963474\n",
            "b1 = 1.4788570188174663\n",
            "mse = 112.64871659622932\n",
            "b0 = 0.03237227678038473\n",
            "b1 = 1.4788558381542305\n",
            "mse = 112.64868049802921\n",
            "b0 = 0.03243234661641087\n",
            "b1 = 1.478854657499906\n",
            "mse = 112.64864440037397\n",
            "b0 = 0.032492415999045315\n",
            "b1 = 1.4788534768544928\n",
            "mse = 112.6486083032637\n",
            "b0 = 0.03255248492829149\n",
            "b1 = 1.4788522962179906\n",
            "mse = 112.64857220669829\n",
            "b0 = 0.032612553404152825\n",
            "b1 = 1.4788511155903998\n",
            "mse = 112.64853611067772\n",
            "b0 = 0.03267262142663273\n",
            "b1 = 1.47884993497172\n",
            "mse = 112.64850001520213\n",
            "b0 = 0.03273268899573463\n",
            "b1 = 1.478848754361951\n",
            "mse = 112.64846392027134\n",
            "b0 = 0.03279275611146195\n",
            "b1 = 1.478847573761093\n",
            "mse = 112.64842782588545\n",
            "b0 = 0.03285282277381811\n",
            "b1 = 1.4788463931691462\n",
            "mse = 112.64839173204444\n",
            "b0 = 0.03291288898280653\n",
            "b1 = 1.47884521258611\n",
            "mse = 112.64835563874828\n",
            "b0 = 0.03297295473843064\n",
            "b1 = 1.4788440320119847\n",
            "mse = 112.64831954599686\n",
            "b0 = 0.033033020040693854\n",
            "b1 = 1.47884285144677\n",
            "mse = 112.64828345379037\n",
            "b0 = 0.0330930848895996\n",
            "b1 = 1.4788416708904657\n",
            "mse = 112.64824736212879\n",
            "b0 = 0.03315314928515129\n",
            "b1 = 1.478840490343072\n",
            "mse = 112.64821127101193\n",
            "b0 = 0.03321321322735235\n",
            "b1 = 1.4788393098045889\n",
            "mse = 112.64817518043989\n",
            "b0 = 0.0332732767162062\n",
            "b1 = 1.4788381292750161\n",
            "mse = 112.64813909041263\n",
            "b0 = 0.033333339751716276\n",
            "b1 = 1.4788369487543536\n",
            "mse = 112.64810300093026\n",
            "b0 = 0.033393402333885984\n",
            "b1 = 1.4788357682426014\n",
            "mse = 112.64806691199254\n",
            "b0 = 0.033453464462718754\n",
            "b1 = 1.4788345877397595\n",
            "mse = 112.6480308235997\n",
            "b0 = 0.033513526138218\n",
            "b1 = 1.4788334072458276\n",
            "mse = 112.64799473575158\n",
            "b0 = 0.03357358736038715\n",
            "b1 = 1.4788322267608058\n",
            "mse = 112.64795864844824\n",
            "b0 = 0.03363364812922962\n",
            "b1 = 1.478831046284694\n",
            "mse = 112.64792256168961\n",
            "b0 = 0.03369370844474884\n",
            "b1 = 1.4788298658174923\n",
            "mse = 112.64788647547576\n",
            "b0 = 0.03375376830694822\n",
            "b1 = 1.4788286853592003\n",
            "mse = 112.64785038980666\n",
            "b0 = 0.03381382771583119\n",
            "b1 = 1.478827504909818\n",
            "mse = 112.64781430468227\n",
            "b0 = 0.03387388667140117\n",
            "b1 = 1.4788263244693456\n",
            "mse = 112.64777822010262\n",
            "b0 = 0.033933945173661585\n",
            "b1 = 1.4788251440377826\n",
            "mse = 112.64774213606763\n",
            "b0 = 0.03399400322261585\n",
            "b1 = 1.4788239636151295\n",
            "mse = 112.64770605257738\n",
            "b0 = 0.034054060818267395\n",
            "b1 = 1.4788227832013858\n",
            "mse = 112.64766996963195\n",
            "b0 = 0.03411411796061963\n",
            "b1 = 1.4788216027965517\n",
            "mse = 112.64763388723101\n",
            "b0 = 0.03417417464967599\n",
            "b1 = 1.478820422400627\n",
            "mse = 112.64759780537486\n",
            "b0 = 0.03423423088543988\n",
            "b1 = 1.4788192420136113\n",
            "mse = 112.64756172406335\n",
            "b0 = 0.03429428666791473\n",
            "b1 = 1.4788180616355049\n",
            "mse = 112.64752564329658\n",
            "b0 = 0.034354341997103965\n",
            "b1 = 1.4788168812663078\n",
            "mse = 112.64748956307434\n",
            "b0 = 0.034414396873011004\n",
            "b1 = 1.47881570090602\n",
            "mse = 112.6474534833968\n",
            "b0 = 0.03447445129563926\n",
            "b1 = 1.4788145205546412\n",
            "mse = 112.64741740426385\n",
            "b0 = 0.03453450526499216\n",
            "b1 = 1.4788133402121713\n",
            "mse = 112.64738132567558\n",
            "b0 = 0.03459455878107313\n",
            "b1 = 1.4788121598786104\n",
            "mse = 112.64734524763193\n",
            "b0 = 0.03465461184388558\n",
            "b1 = 1.4788109795539583\n",
            "mse = 112.64730917013293\n",
            "b0 = 0.03471466445343294\n",
            "b1 = 1.478809799238215\n",
            "mse = 112.64727309317841\n",
            "b0 = 0.034774716609718634\n",
            "b1 = 1.4788086189313803\n",
            "mse = 112.6472370167686\n",
            "b0 = 0.034834768312746074\n",
            "b1 = 1.4788074386334544\n",
            "mse = 112.64720094090339\n",
            "b0 = 0.034894819562518685\n",
            "b1 = 1.478806258344437\n",
            "mse = 112.6471648655827\n",
            "b0 = 0.034954870359039894\n",
            "b1 = 1.478805078064328\n",
            "mse = 112.64712879080656\n",
            "b0 = 0.035014920702313115\n",
            "b1 = 1.4788038977931277\n",
            "mse = 112.6470927165751\n",
            "b0 = 0.03507497059234177\n",
            "b1 = 1.4788027175308358\n"
          ]
        }
      ]
    },
    {
      "cell_type": "code",
      "source": [
        "print(b0,\",\",b1)"
      ],
      "metadata": {
        "colab": {
          "base_uri": "https://localhost:8080/"
        },
        "id": "cUywE1srl7hl",
        "outputId": "a8c2f74a-c3a5-4a13-b14f-bf60260bf900"
      },
      "execution_count": null,
      "outputs": [
        {
          "output_type": "stream",
          "name": "stdout",
          "text": [
            "0.03507497059234177 , 1.4788027175308358\n"
          ]
        }
      ]
    },
    {
      "cell_type": "code",
      "source": [
        "plt.plot(x,yhat, c = \"green\")\n",
        "plt.scatter(x,y,c=\"red\")\n",
        "plt.xlabel('Mids Marks')  \n",
        "plt.ylabel('Final Marks') \n",
        "plt.title('Linear Regression') \n",
        "plt.show()"
      ],
      "metadata": {
        "colab": {
          "base_uri": "https://localhost:8080/",
          "height": 295
        },
        "id": "OKssPdl7mNk4",
        "outputId": "e63e12c0-3803-48c9-9c7f-fb651b422f67"
      },
      "execution_count": null,
      "outputs": [
        {
          "output_type": "display_data",
          "data": {
            "text/plain": [
              "<Figure size 432x288 with 1 Axes>"
            ],
            "image/png": "[encoded data removed]"
          },
          "metadata": {
            "needs_background": "light"
          }
        }
      ]
    }
  ]
}