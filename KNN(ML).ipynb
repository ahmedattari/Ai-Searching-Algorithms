{
  "nbformat": 4,
  "nbformat_minor": 0,
  "metadata": {
    "colab": {
      "provenance": [],
      "include_colab_link": true
    },
    "kernelspec": {
      "name": "python3",
      "display_name": "Python 3"
    },
    "language_info": {
      "name": "python"
    }
  },
  "cells": [
    {
      "cell_type": "markdown",
      "metadata": {
        "id": "view-in-github",
        "colab_type": "text"
      },
      "source": [
        "<a href=\"https://colab.research.google.com/github/ahmedattari/Ai-Searching-Algorithms/blob/main/KNN(ML).ipynb\" target=\"_parent\"><img src=\"https://colab.research.google.com/assets/colab-badge.svg\" alt=\"Open In Colab\"/></a>"
      ]
    },
    {
      "cell_type": "code",
      "execution_count": 4,
      "metadata": {
        "id": "R5ZyEBuhV1uP"
      },
      "outputs": [],
      "source": [
        "import pandas as pd\n",
        "import matplotlib.pyplot as plt"
      ]
    },
    {
      "cell_type": "code",
      "source": [
        "file = pd.read_csv('data_banknote_authentication.csv',header = None)\n",
        "df = pd.DataFrame(file, columns=[0, 1, 2,3,4])\n",
        "df.rename(columns = {0:'A1',1:'B1', 2:'C1',3:'D1',4:'Classification'}, inplace = True)"
      ],
      "metadata": {
        "id": "9gFm3ylMWL-I"
      },
      "execution_count": 5,
      "outputs": []
    },
    {
      "cell_type": "code",
      "source": [
        "k = 5"
      ],
      "metadata": {
        "id": "JWoy22oc_KLz"
      },
      "execution_count": 6,
      "outputs": []
    },
    {
      "cell_type": "markdown",
      "source": [
        "**Distance**"
      ],
      "metadata": {
        "id": "0d02vVJ3zQQk"
      }
    },
    {
      "cell_type": "code",
      "source": [
        "def computeDistance(data, query):\n",
        "  distances = []\n",
        "  for i in range(len(data)):\n",
        "    man = abs(data.iloc[i][0] - query[0]) + abs(data.iloc[i][1] - query[1]) + abs(data.iloc[i][2] - query[2]) + abs(data.iloc[i][3] - query[3])#manhattan distance formula\n",
        "    distances.append(man)\n",
        "  return distances"
      ],
      "metadata": {
        "id": "JgVOGHsd6_VG"
      },
      "execution_count": 7,
      "outputs": []
    },
    {
      "cell_type": "code",
      "source": [
        "query = (2.0153,\t1.8479,\t3.1375,\t2.42843)"
      ],
      "metadata": {
        "id": "kfdVV_nf9lKk"
      },
      "execution_count": 8,
      "outputs": []
    },
    {
      "cell_type": "code",
      "source": [
        "df['distance'] = computeDistance(df, query)\n",
        "\n",
        "df = df.sort_values(by=\"distance\", ascending=True)\n",
        "df"
      ],
      "metadata": {
        "colab": {
          "base_uri": "https://localhost:8080/",
          "height": 424
        },
        "id": "YWAx24wuAF8k",
        "outputId": "e18aaa68-6c99-4031-f32e-be0d4d421882"
      },
      "execution_count": 9,
      "outputs": [
        {
          "output_type": "execute_result",
          "data": {
            "text/plain": [
              "          A1       B1       C1       D1 Classification  distance\n",
              "514   2.0153   1.8479   3.1375  0.42843           Fake   2.00000\n",
              "710   2.4012   1.6223   3.0312  0.71679           Fake   2.42944\n",
              "456   2.0007   1.8644   2.6491  0.47369           Fake   2.47424\n",
              "532   2.5227   2.2369   2.7236  0.79438           Fake   2.94435\n",
              "312   1.5902   2.2948   3.2403  0.18404           Fake   3.21919\n",
              "...      ...      ...      ...      ...            ...       ...\n",
              "1064 -3.6961 -13.6779  17.5795 -2.61810           Real  40.72573\n",
              "1369 -3.7503 -13.4586  17.5932 -2.77710           Real  40.73333\n",
              "1247 -4.4775 -13.0303  17.0834 -3.03450           Real  40.77983\n",
              "881  -4.4861 -13.2889  17.3087 -3.21940           Real  41.45723\n",
              "820  -4.0025 -13.4979  17.6772 -3.32020           Real  41.65193\n",
              "\n",
              "[1372 rows x 6 columns]"
            ],
            "text/html": [
              "\n",
              "  <div id=\"df-1eb6f866-b21e-4368-8403-6ea9f8846484\">\n",
              "    <div class=\"colab-df-container\">\n",
              "      <div>\n",
              "<style scoped>\n",
              "    .dataframe tbody tr th:only-of-type {\n",
              "        vertical-align: middle;\n",
              "    }\n",
              "\n",
              "    .dataframe tbody tr th {\n",
              "        vertical-align: top;\n",
              "    }\n",
              "\n",
              "    .dataframe thead th {\n",
              "        text-align: right;\n",
              "    }\n",
              "</style>\n",
              "<table border=\"1\" class=\"dataframe\">\n",
              "  <thead>\n",
              "    <tr style=\"text-align: right;\">\n",
              "      <th></th>\n",
              "      <th>A1</th>\n",
              "      <th>B1</th>\n",
              "      <th>C1</th>\n",
              "      <th>D1</th>\n",
              "      <th>Classification</th>\n",
              "      <th>distance</th>\n",
              "    </tr>\n",
              "  </thead>\n",
              "  <tbody>\n",
              "    <tr>\n",
              "      <th>514</th>\n",
              "      <td>2.0153</td>\n",
              "      <td>1.8479</td>\n",
              "      <td>3.1375</td>\n",
              "      <td>0.42843</td>\n",
              "      <td>Fake</td>\n",
              "      <td>2.00000</td>\n",
              "    </tr>\n",
              "    <tr>\n",
              "      <th>710</th>\n",
              "      <td>2.4012</td>\n",
              "      <td>1.6223</td>\n",
              "      <td>3.0312</td>\n",
              "      <td>0.71679</td>\n",
              "      <td>Fake</td>\n",
              "      <td>2.42944</td>\n",
              "    </tr>\n",
              "    <tr>\n",
              "      <th>456</th>\n",
              "      <td>2.0007</td>\n",
              "      <td>1.8644</td>\n",
              "      <td>2.6491</td>\n",
              "      <td>0.47369</td>\n",
              "      <td>Fake</td>\n",
              "      <td>2.47424</td>\n",
              "    </tr>\n",
              "    <tr>\n",
              "      <th>532</th>\n",
              "      <td>2.5227</td>\n",
              "      <td>2.2369</td>\n",
              "      <td>2.7236</td>\n",
              "      <td>0.79438</td>\n",
              "      <td>Fake</td>\n",
              "      <td>2.94435</td>\n",
              "    </tr>\n",
              "    <tr>\n",
              "      <th>312</th>\n",
              "      <td>1.5902</td>\n",
              "      <td>2.2948</td>\n",
              "      <td>3.2403</td>\n",
              "      <td>0.18404</td>\n",
              "      <td>Fake</td>\n",
              "      <td>3.21919</td>\n",
              "    </tr>\n",
              "    <tr>\n",
              "      <th>...</th>\n",
              "      <td>...</td>\n",
              "      <td>...</td>\n",
              "      <td>...</td>\n",
              "      <td>...</td>\n",
              "      <td>...</td>\n",
              "      <td>...</td>\n",
              "    </tr>\n",
              "    <tr>\n",
              "      <th>1064</th>\n",
              "      <td>-3.6961</td>\n",
              "      <td>-13.6779</td>\n",
              "      <td>17.5795</td>\n",
              "      <td>-2.61810</td>\n",
              "      <td>Real</td>\n",
              "      <td>40.72573</td>\n",
              "    </tr>\n",
              "    <tr>\n",
              "      <th>1369</th>\n",
              "      <td>-3.7503</td>\n",
              "      <td>-13.4586</td>\n",
              "      <td>17.5932</td>\n",
              "      <td>-2.77710</td>\n",
              "      <td>Real</td>\n",
              "      <td>40.73333</td>\n",
              "    </tr>\n",
              "    <tr>\n",
              "      <th>1247</th>\n",
              "      <td>-4.4775</td>\n",
              "      <td>-13.0303</td>\n",
              "      <td>17.0834</td>\n",
              "      <td>-3.03450</td>\n",
              "      <td>Real</td>\n",
              "      <td>40.77983</td>\n",
              "    </tr>\n",
              "    <tr>\n",
              "      <th>881</th>\n",
              "      <td>-4.4861</td>\n",
              "      <td>-13.2889</td>\n",
              "      <td>17.3087</td>\n",
              "      <td>-3.21940</td>\n",
              "      <td>Real</td>\n",
              "      <td>41.45723</td>\n",
              "    </tr>\n",
              "    <tr>\n",
              "      <th>820</th>\n",
              "      <td>-4.0025</td>\n",
              "      <td>-13.4979</td>\n",
              "      <td>17.6772</td>\n",
              "      <td>-3.32020</td>\n",
              "      <td>Real</td>\n",
              "      <td>41.65193</td>\n",
              "    </tr>\n",
              "  </tbody>\n",
              "</table>\n",
              "<p>1372 rows × 6 columns</p>\n",
              "</div>\n",
              "      <button class=\"colab-df-convert\" onclick=\"convertToInteractive('df-1eb6f866-b21e-4368-8403-6ea9f8846484')\"\n",
              "              title=\"Convert this dataframe to an interactive table.\"\n",
              "              style=\"display:none;\">\n",
              "        \n",
              "  <svg xmlns=\"http://www.w3.org/2000/svg\" height=\"24px\"viewBox=\"0 0 24 24\"\n",
              "       width=\"24px\">\n",
              "    <path d=\"M0 0h24v24H0V0z\" fill=\"none\"/>\n",
              "    <path d=\"M18.56 5.44l.94 2.06.94-2.06 2.06-.94-2.06-.94-.94-2.06-.94 2.06-2.06.94zm-11 1L8.5 8.5l.94-2.06 2.06-.94-2.06-.94L8.5 2.5l-.94 2.06-2.06.94zm10 10l.94 2.06.94-2.06 2.06-.94-2.06-.94-.94-2.06-.94 2.06-2.06.94z\"/><path d=\"M17.41 7.96l-1.37-1.37c-.4-.4-.92-.59-1.43-.59-.52 0-1.04.2-1.43.59L10.3 9.45l-7.72 7.72c-.78.78-.78 2.05 0 2.83L4 21.41c.39.39.9.59 1.41.59.51 0 1.02-.2 1.41-.59l7.78-7.78 2.81-2.81c.8-.78.8-2.07 0-2.86zM5.41 20L4 18.59l7.72-7.72 1.47 1.35L5.41 20z\"/>\n",
              "  </svg>\n",
              "      </button>\n",
              "      \n",
              "  <style>\n",
              "    .colab-df-container {\n",
              "      display:flex;\n",
              "      flex-wrap:wrap;\n",
              "      gap: 12px;\n",
              "    }\n",
              "\n",
              "    .colab-df-convert {\n",
              "      background-color: #E8F0FE;\n",
              "      border: none;\n",
              "      border-radius: 50%;\n",
              "      cursor: pointer;\n",
              "      display: none;\n",
              "      fill: #1967D2;\n",
              "      height: 32px;\n",
              "      padding: 0 0 0 0;\n",
              "      width: 32px;\n",
              "    }\n",
              "\n",
              "    .colab-df-convert:hover {\n",
              "      background-color: #E2EBFA;\n",
              "      box-shadow: 0px 1px 2px rgba(60, 64, 67, 0.3), 0px 1px 3px 1px rgba(60, 64, 67, 0.15);\n",
              "      fill: #174EA6;\n",
              "    }\n",
              "\n",
              "    [theme=dark] .colab-df-convert {\n",
              "      background-color: #3B4455;\n",
              "      fill: #D2E3FC;\n",
              "    }\n",
              "\n",
              "    [theme=dark] .colab-df-convert:hover {\n",
              "      background-color: #434B5C;\n",
              "      box-shadow: 0px 1px 3px 1px rgba(0, 0, 0, 0.15);\n",
              "      filter: drop-shadow(0px 1px 2px rgba(0, 0, 0, 0.3));\n",
              "      fill: #FFFFFF;\n",
              "    }\n",
              "  </style>\n",
              "\n",
              "      <script>\n",
              "        const buttonEl =\n",
              "          document.querySelector('#df-1eb6f866-b21e-4368-8403-6ea9f8846484 button.colab-df-convert');\n",
              "        buttonEl.style.display =\n",
              "          google.colab.kernel.accessAllowed ? 'block' : 'none';\n",
              "\n",
              "        async function convertToInteractive(key) {\n",
              "          const element = document.querySelector('#df-1eb6f866-b21e-4368-8403-6ea9f8846484');\n",
              "          const dataTable =\n",
              "            await google.colab.kernel.invokeFunction('convertToInteractive',\n",
              "                                                     [key], {});\n",
              "          if (!dataTable) return;\n",
              "\n",
              "          const docLinkHtml = 'Like what you see? Visit the ' +\n",
              "            '<a target=\"_blank\" href=https://colab.research.google.com/notebooks/data_table.ipynb>data table notebook</a>'\n",
              "            + ' to learn more about interactive tables.';\n",
              "          element.innerHTML = '';\n",
              "          dataTable['output_type'] = 'display_data';\n",
              "          await google.colab.output.renderOutput(dataTable, element);\n",
              "          const docLink = document.createElement('div');\n",
              "          docLink.innerHTML = docLinkHtml;\n",
              "          element.appendChild(docLink);\n",
              "        }\n",
              "      </script>\n",
              "    </div>\n",
              "  </div>\n",
              "  "
            ]
          },
          "metadata": {},
          "execution_count": 9
        }
      ]
    },
    {
      "cell_type": "code",
      "source": [
        "kSamples = df.iloc[:k+1]\n",
        "prediction =  kSamples.pop('Classification')\n",
        "prediction = prediction.to_list()\n",
        "prediction = max(set(prediction), key=prediction.count)\n",
        "print(f\"The Class of {query} is: {prediction}\")"
      ],
      "metadata": {
        "colab": {
          "base_uri": "https://localhost:8080/"
        },
        "id": "iqJsTW3Bknk0",
        "outputId": "e1ef0e35-b8d1-4f00-9424-6f1632eb6b7d"
      },
      "execution_count": 10,
      "outputs": [
        {
          "output_type": "stream",
          "name": "stdout",
          "text": [
            "The Class of (2.0153, 1.8479, 3.1375, 2.42843) is: Fake\n"
          ]
        }
      ]
    },
    {
      "cell_type": "code",
      "source": [],
      "metadata": {
        "id": "LJ4hTTxu_XKi"
      },
      "execution_count": 10,
      "outputs": []
    }
  ]
}